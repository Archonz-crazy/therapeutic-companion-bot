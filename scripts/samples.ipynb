{
 "cells": [
  {
   "cell_type": "code",
   "execution_count": 5,
   "metadata": {},
   "outputs": [],
   "source": [
    "import pandas as pd\n",
    "df = pd.read_csv('../data/TypesDisease/all_types.csv')"
   ]
  },
  {
   "cell_type": "code",
   "execution_count": 6,
   "metadata": {},
   "outputs": [
    {
     "data": {
      "text/plain": [
       "Index(['title', 'selftext', 'subreddit'], dtype='object')"
      ]
     },
     "execution_count": 6,
     "metadata": {},
     "output_type": "execute_result"
    }
   ],
   "source": [
    "df.columns"
   ]
  },
  {
   "cell_type": "code",
   "execution_count": 7,
   "metadata": {},
   "outputs": [
    {
     "data": {
      "text/plain": [
       "(853075, 3)"
      ]
     },
     "execution_count": 7,
     "metadata": {},
     "output_type": "execute_result"
    }
   ],
   "source": [
    "df.shape\n"
   ]
  },
  {
   "cell_type": "code",
   "execution_count": 4,
   "metadata": {},
   "outputs": [
    {
     "data": {
      "text/html": [
       "<div>\n",
       "<style scoped>\n",
       "    .dataframe tbody tr th:only-of-type {\n",
       "        vertical-align: middle;\n",
       "    }\n",
       "\n",
       "    .dataframe tbody tr th {\n",
       "        vertical-align: top;\n",
       "    }\n",
       "\n",
       "    .dataframe thead th {\n",
       "        text-align: right;\n",
       "    }\n",
       "</style>\n",
       "<table border=\"1\" class=\"dataframe\">\n",
       "  <thead>\n",
       "    <tr style=\"text-align: right;\">\n",
       "      <th></th>\n",
       "      <th>title</th>\n",
       "      <th>selftext</th>\n",
       "      <th>subreddit</th>\n",
       "    </tr>\n",
       "  </thead>\n",
       "  <tbody>\n",
       "    <tr>\n",
       "      <th>0</th>\n",
       "      <td>I get extremely anxious if I’m not working 24/7</td>\n",
       "      <td>A few months ago I was accepted into this full...</td>\n",
       "      <td>ADHD</td>\n",
       "    </tr>\n",
       "    <tr>\n",
       "      <th>1</th>\n",
       "      <td>I can't will myself to clean my own house, but...</td>\n",
       "      <td>Hey guys, I was curious if anyone else has the...</td>\n",
       "      <td>ADHD</td>\n",
       "    </tr>\n",
       "    <tr>\n",
       "      <th>2</th>\n",
       "      <td>i need some help</td>\n",
       "      <td>\\n\\ni have 6 exams in the next 2 weeks one of...</td>\n",
       "      <td>ADHD</td>\n",
       "    </tr>\n",
       "    <tr>\n",
       "      <th>3</th>\n",
       "      <td>Anyone up for a chat?</td>\n",
       "      <td>Is there anyone out there that is struggling w...</td>\n",
       "      <td>ADHD</td>\n",
       "    </tr>\n",
       "    <tr>\n",
       "      <th>4</th>\n",
       "      <td>Figuring out what to eat sucks</td>\n",
       "      <td>Whenever I get hungry, I never eat because I d...</td>\n",
       "      <td>ADHD</td>\n",
       "    </tr>\n",
       "  </tbody>\n",
       "</table>\n",
       "</div>"
      ],
      "text/plain": [
       "                                               title  \\\n",
       "0    I get extremely anxious if I’m not working 24/7   \n",
       "1  I can't will myself to clean my own house, but...   \n",
       "2                                   i need some help   \n",
       "3                              Anyone up for a chat?   \n",
       "4                     Figuring out what to eat sucks   \n",
       "\n",
       "                                            selftext subreddit  \n",
       "0  A few months ago I was accepted into this full...      ADHD  \n",
       "1  Hey guys, I was curious if anyone else has the...      ADHD  \n",
       "2   \\n\\ni have 6 exams in the next 2 weeks one of...      ADHD  \n",
       "3  Is there anyone out there that is struggling w...      ADHD  \n",
       "4  Whenever I get hungry, I never eat because I d...      ADHD  "
      ]
     },
     "execution_count": 4,
     "metadata": {},
     "output_type": "execute_result"
    }
   ],
   "source": [
    "df.head()\n"
   ]
  },
  {
   "cell_type": "code",
   "execution_count": 4,
   "metadata": {},
   "outputs": [
    {
     "data": {
      "text/html": [
       "<div>\n",
       "<style scoped>\n",
       "    .dataframe tbody tr th:only-of-type {\n",
       "        vertical-align: middle;\n",
       "    }\n",
       "\n",
       "    .dataframe tbody tr th {\n",
       "        vertical-align: top;\n",
       "    }\n",
       "\n",
       "    .dataframe thead th {\n",
       "        text-align: right;\n",
       "    }\n",
       "</style>\n",
       "<table border=\"1\" class=\"dataframe\">\n",
       "  <thead>\n",
       "    <tr style=\"text-align: right;\">\n",
       "      <th></th>\n",
       "      <th>body</th>\n",
       "      <th>subreddit</th>\n",
       "      <th>title</th>\n",
       "    </tr>\n",
       "  </thead>\n",
       "  <tbody>\n",
       "    <tr>\n",
       "      <th>0</th>\n",
       "      <td>A few months ago I was accepted into this full...</td>\n",
       "      <td>ADHD</td>\n",
       "      <td>I get extremely anxious if I’m not working 24/7</td>\n",
       "    </tr>\n",
       "    <tr>\n",
       "      <th>1</th>\n",
       "      <td>Hey guys, I was curious if anyone else has the...</td>\n",
       "      <td>ADHD</td>\n",
       "      <td>I can't will myself to clean my own house, but...</td>\n",
       "    </tr>\n",
       "    <tr>\n",
       "      <th>2</th>\n",
       "      <td>\\n\\ni have 6 exams in the next 2 weeks one of...</td>\n",
       "      <td>ADHD</td>\n",
       "      <td>i need some help</td>\n",
       "    </tr>\n",
       "    <tr>\n",
       "      <th>3</th>\n",
       "      <td>Is there anyone out there that is struggling w...</td>\n",
       "      <td>ADHD</td>\n",
       "      <td>Anyone up for a chat?</td>\n",
       "    </tr>\n",
       "    <tr>\n",
       "      <th>4</th>\n",
       "      <td>Whenever I get hungry, I never eat because I d...</td>\n",
       "      <td>ADHD</td>\n",
       "      <td>Figuring out what to eat sucks</td>\n",
       "    </tr>\n",
       "  </tbody>\n",
       "</table>\n",
       "</div>"
      ],
      "text/plain": [
       "                                                body subreddit  \\\n",
       "0  A few months ago I was accepted into this full...      ADHD   \n",
       "1  Hey guys, I was curious if anyone else has the...      ADHD   \n",
       "2   \\n\\ni have 6 exams in the next 2 weeks one of...      ADHD   \n",
       "3  Is there anyone out there that is struggling w...      ADHD   \n",
       "4  Whenever I get hungry, I never eat because I d...      ADHD   \n",
       "\n",
       "                                               title  \n",
       "0    I get extremely anxious if I’m not working 24/7  \n",
       "1  I can't will myself to clean my own house, but...  \n",
       "2                                   i need some help  \n",
       "3                              Anyone up for a chat?  \n",
       "4                     Figuring out what to eat sucks  "
      ]
     },
     "execution_count": 4,
     "metadata": {},
     "output_type": "execute_result"
    }
   ],
   "source": [
    "df.head()"
   ]
  }
 ],
 "metadata": {
  "kernelspec": {
   "display_name": "nlp",
   "language": "python",
   "name": "python3"
  },
  "language_info": {
   "codemirror_mode": {
    "name": "ipython",
    "version": 3
   },
   "file_extension": ".py",
   "mimetype": "text/x-python",
   "name": "python",
   "nbconvert_exporter": "python",
   "pygments_lexer": "ipython3",
   "version": "3.11.7"
  }
 },
 "nbformat": 4,
 "nbformat_minor": 2
}
