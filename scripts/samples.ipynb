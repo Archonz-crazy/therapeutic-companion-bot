{
 "cells": [
  {
   "cell_type": "code",
   "execution_count": 21,
   "metadata": {},
   "outputs": [],
   "source": [
    "import pandas as pd\n",
    "df = pd.read_csv('../data/parquet_files/csv/p7.csv')"
   ]
  },
  {
   "cell_type": "code",
   "execution_count": 22,
   "metadata": {},
   "outputs": [
    {
     "data": {
      "text/plain": [
       "Index(['text'], dtype='object')"
      ]
     },
     "execution_count": 22,
     "metadata": {},
     "output_type": "execute_result"
    }
   ],
   "source": [
    "df.columns"
   ]
  },
  {
   "cell_type": "code",
   "execution_count": 23,
   "metadata": {},
   "outputs": [
    {
     "name": "stdout",
     "output_type": "stream",
     "text": [
      "0     How can I get to a place where I can be conte...\n",
      "1     How can I get to a place where I can be conte...\n",
      "2     How can I get to a place where I can be conte...\n",
      "3     I have a severe back problem. I've had 3 majo...\n",
      "4     I have a severe back problem. I've had 3 majo...\n",
      "Name: text, dtype: object\n"
     ]
    }
   ],
   "source": [
    "df[\"text\"] = df[\"text\"].str.replace(\"<s>[INST]\", '')\n",
    "print(df[\"text\"].head(5))\n"
   ]
  },
  {
   "cell_type": "code",
   "execution_count": 24,
   "metadata": {},
   "outputs": [
    {
     "name": "stdout",
     "output_type": "stream",
     "text": [
      "                                                   0  \\\n",
      "0   How can I get to a place where I can be conte...   \n",
      "1   How can I get to a place where I can be conte...   \n",
      "2   How can I get to a place where I can be conte...   \n",
      "3   I have a severe back problem. I've had 3 majo...   \n",
      "4   I have a severe back problem. I've had 3 majo...   \n",
      "\n",
      "                                                   1  \n",
      "0   Your question is a fascinating one!As humans ...  \n",
      "1   One thing that comes to mind is making a list...  \n",
      "2   It's important to take a look inside and see ...  \n",
      "3   Chronic pain at the back likely results from ...  \n",
      "4   Maybe if you started to address questions of ...  \n"
     ]
    }
   ],
   "source": [
    "p = \"\\[\\/INST\\]\"\n",
    "df = df['text'].str.split(p, expand=True)\n",
    "print(df.head(5))"
   ]
  },
  {
   "cell_type": "code",
   "execution_count": null,
   "metadata": {},
   "outputs": [],
   "source": []
  }
 ],
 "metadata": {
  "kernelspec": {
   "display_name": "nlp",
   "language": "python",
   "name": "python3"
  },
  "language_info": {
   "codemirror_mode": {
    "name": "ipython",
    "version": 3
   },
   "file_extension": ".py",
   "mimetype": "text/x-python",
   "name": "python",
   "nbconvert_exporter": "python",
   "pygments_lexer": "ipython3",
   "version": "3.1.0"
  }
 },
 "nbformat": 4,
 "nbformat_minor": 2
}
